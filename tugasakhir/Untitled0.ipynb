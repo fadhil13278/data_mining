{
  "nbformat": 4,
  "nbformat_minor": 0,
  "metadata": {
    "colab": {
      "provenance": []
    },
    "kernelspec": {
      "name": "python3",
      "display_name": "Python 3"
    },
    "language_info": {
      "name": "python"
    }
  },
  "cells": [
    {
      "cell_type": "code",
      "execution_count": null,
      "metadata": {
        "id": "7LfsxdYngmSL"
      },
      "outputs": [],
      "source": [
        "! chmod 600 /content/kaggle.json"
      ]
    },
    {
      "cell_type": "code",
      "source": [
        "! KAGGLE_CONFIG_DIR=/content/ kaggle datasets download -d adityadesai13/used-car-dataset-ford-and-mercedes"
      ],
      "metadata": {
        "colab": {
          "base_uri": "https://localhost:8080/"
        },
        "id": "4HEJdkY1jLJJ",
        "outputId": "1391556e-d0c0-47b0-dbb9-4650178d7b49"
      },
      "execution_count": null,
      "outputs": [
        {
          "output_type": "stream",
          "name": "stdout",
          "text": [
            "Downloading used-car-dataset-ford-and-mercedes.zip to /content\n",
            " 91% 1.00M/1.10M [00:00<00:00, 1.48MB/s]\n",
            "100% 1.10M/1.10M [00:00<00:00, 1.59MB/s]\n"
          ]
        }
      ]
    },
    {
      "cell_type": "code",
      "source": [
        "import zipfile\n",
        "zip_file = zipfile.ZipFile('/content/used-car-dataset-ford-and-mercedes.zip','r')\n",
        "zip_file.extractall('/tmp/')"
      ],
      "metadata": {
        "id": "l7o3w-8pkHyg"
      },
      "execution_count": null,
      "outputs": []
    },
    {
      "cell_type": "code",
      "source": [],
      "metadata": {
        "id": "QmiNCS3ekwfN"
      },
      "execution_count": null,
      "outputs": []
    }
  ]
}